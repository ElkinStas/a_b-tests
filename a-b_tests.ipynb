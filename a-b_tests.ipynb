{
 "cells": [
  {
   "cell_type": "code",
   "execution_count": 41,
   "id": "furnished-trust",
   "metadata": {},
   "outputs": [],
   "source": [
    "from scipy.stats import *\n",
    "import math\n",
    "from collections import Counter"
   ]
  },
  {
   "cell_type": "code",
   "execution_count": 29,
   "id": "settled-humanitarian",
   "metadata": {},
   "outputs": [],
   "source": [
    "def stat_tester(alternative, a_x, a_all, b_x, b_all):\n",
    "    first_step = (a_x/a_all) - (b_x/ b_all)\n",
    "    second_step = math.sqrt(((a_x+b_x)/(a_all+b_all))*(1 - (a_x+b_x)/(a_all+b_all))*(1/a_all + 1/b_all))\n",
    "    T = first_step/second_step\n",
    "    p_values = norm.sf(abs(T))\n",
    "    if  alternative == 'lower' and T > -1.65 and p_values >0.05:\n",
    "        print(f\"Принимаем основную - T: {T}, p_value: {p_values}\")\n",
    "    elif alternative == 'higher' and T < 1.65 and p_values >0.05:\n",
    "        print(f\"Принимаем основную - T: {T}, p_value: {p_values}\")\n",
    "    elif alternative == 'not equal' and T < (1.65/2) and T > (-1.65/2) and p_values >0.05:\n",
    "        print(f\"Принимаем основную - T: {T}, p_value: {p_values}\")\n",
    "    else:\n",
    "        print(f\"принимаем в пользу альтернативной - T: {T}, p_value: {p_values}\")\n",
    "    "
   ]
  },
  {
   "cell_type": "code",
   "execution_count": 30,
   "id": "perfect-treat",
   "metadata": {},
   "outputs": [
    {
     "name": "stdout",
     "output_type": "stream",
     "text": [
      "Принимаем основную - T: 1.4482535671508665, p_value: 0.07377307418610238\n"
     ]
    }
   ],
   "source": [
    "stat_tester('lower',46,1100,30,1000)"
   ]
  },
  {
   "cell_type": "markdown",
   "id": "governmental-contrary",
   "metadata": {},
   "source": [
    "## Программа для A/B теста\n",
    "\n",
    "Принимает 5 аргументов\n",
    "* значения для альтернативной гипотезы: 'lower', 'higher', 'not equal'\n",
    "* параметр теста А\n",
    "* размер выборки теста А\n",
    "* параметр теста Б\n",
    "* размер выборки теста Б\n",
    "\n",
    "В качестве ответа выдает статистикукритерия и п-значение"
   ]
  },
  {
   "cell_type": "markdown",
   "id": "popular-surface",
   "metadata": {},
   "source": [
    "## Задача 3.1\n",
    "Перед президентскими выборами  в городах Курске и Владивостоке был проведен социологический опрос. Каждый респондент должен был ответить на вопрос: «За какого кандидата вы будете голосовать на выборах?». В Курске опросили 105 человек, из них 42 ответили, что будут голосовать за кандидата А, во Владивостоке опросили 195 человек, из которых 65 за А. Можно ли считать на уровне значимости 0,05, что уровни поддержки кандидата А в Курске и Владивостоке одинаковы?"
   ]
  },
  {
   "cell_type": "code",
   "execution_count": 31,
   "id": "thousand-transsexual",
   "metadata": {},
   "outputs": [
    {
     "name": "stdout",
     "output_type": "stream",
     "text": [
      "принимаем в пользу альтернативной - T: 1.1497694901123454, p_value: 0.1251194122753233\n"
     ]
    }
   ],
   "source": [
    "stat_tester('not equal',42,105,65,195)"
   ]
  },
  {
   "cell_type": "markdown",
   "id": "instant-silicon",
   "metadata": {},
   "source": [
    "Ответ: основная гипотеза - поддержка одинакова, альтернативная - что не одинакова. Делаем выбор в пользу альтернативной гипотезы"
   ]
  },
  {
   "cell_type": "markdown",
   "id": "national-reader",
   "metadata": {},
   "source": [
    "## Задача 3.2\n",
    "Для изучения эффективности лекарства против аллергии обследовались две группы людей, предрасположенных к этому заболеванию. Результаты обследования следующие: среди принимавших лекарство заболело 3 человека, не заболело 172 человека; среди не  принимавших \n",
    "заболело 32 человека, не заболело 168. Указывают ли эти результаты на эффективность лекарства?"
   ]
  },
  {
   "cell_type": "code",
   "execution_count": 34,
   "id": "liberal-royalty",
   "metadata": {},
   "outputs": [
    {
     "name": "stdout",
     "output_type": "stream",
     "text": [
      "принимаем в пользу альтернативной - T: 4.744365458250511, p_value: 1.045804697525516e-06\n"
     ]
    }
   ],
   "source": [
    "stat_tester('higher',172,175,168,200)"
   ]
  },
  {
   "cell_type": "markdown",
   "id": "satisfied-actress",
   "metadata": {},
   "source": [
    "Ответ: сначала расскажу, что под успехом подразумевалось здоровье, а не \"заболевшесть\". Так вот, хоть мы и отвергаем гипотезу основную (в данном случае из-за п-значения), но статистика критерия явно великовата и однозначного вывода о эффективности лекарства сделать сложно - требуется больше наблюдений"
   ]
  },
  {
   "cell_type": "markdown",
   "id": "neural-basics",
   "metadata": {},
   "source": [
    "## Задача 3.3\n",
    "Было проведено обследование 10 горожан и 9 жителей села примерно одного возраста. Получены следующие данные об уровне давления:для горожан: 130, 110, 120, 140, 200, 130, 140, 170, 160, 140;для селян: 120, 190, 130, 160, 150, 120, 110, 120, 200.Свидетельствуют ли эти данные в пользу того, что горожане имеют в среднем более высокое давление чем жители сельской местности?"
   ]
  },
  {
   "cell_type": "code",
   "execution_count": 274,
   "id": "silent-catalyst",
   "metadata": {},
   "outputs": [],
   "source": [
    "def stat_tester_w_m_w(alternative, a_x,  b_x): #Вилкоксон (Манн-Уитни)\n",
    "    general_selection = sorted(a_x + b_x)\n",
    "    G= Counter(general_selection)\n",
    "    q=0\n",
    "    W =0.\n",
    "    z= 0\n",
    "    for i in G:\n",
    "\n",
    "        if G[i] > 1:\n",
    "            z = 0\n",
    "            for digit in range(q+1, (q + G[i])+1):\n",
    "                z+= digit\n",
    "                #print(z)\n",
    "            q_temp =  z/G[i]\n",
    "            #print(q_temp)\n",
    "            if i in b_x:\n",
    "                W+=q_temp\n",
    "            q += G[i]\n",
    "        else:\n",
    "            q+=1\n",
    "            if i in b_x:\n",
    "                W+=q\n",
    "    M = len(b_x)/2*(len(b_x) + len(a_x)+ 1) #мат ожидание\n",
    "    D = (len(a_x)*len(b_x))/12*(len(a_x) + len(b_x) +1) #дисперсия\n",
    "    Wcr=(W-M)/math.sqrt(D)\n",
    "    p_values = norm.sf(abs(Wcr))\n",
    "    if  alternative == 'lower' and Wcr > -1.65 and p_values >0.05:\n",
    "        print(f\"Принимаем основную - W: {Wcr}, p_value: {p_values}\")\n",
    "    elif alternative == 'higher' and Wcr < 1.65 and p_values >0.05:\n",
    "        print(f\"Принимаем основную - W: {Wcr}, p_value: {p_values}\")\n",
    "    elif alternative == 'not equal' and Wcr < (1.65/2) and Wcr > (-1.65/2) and p_values >0.05:\n",
    "        print(f\"Принимаем основную - W: {Wcr}, p_value: {p_values}\")\n",
    "    else:\n",
    "        print(f\"принимаем в пользу альтернативной - T: {Wcr}, p_value: {p_values}\")"
   ]
  },
  {
   "cell_type": "code",
   "execution_count": 275,
   "id": "powerful-requirement",
   "metadata": {},
   "outputs": [],
   "source": [
    "x = [130, 110, 120, 140, 200, 130, 140, 170, 160, 140]\n",
    "z = [120, 190, 130, 160, 150, 120, 110, 120, 200]"
   ]
  },
  {
   "cell_type": "code",
   "execution_count": 276,
   "id": "separated-syntax",
   "metadata": {},
   "outputs": [
    {
     "name": "stdout",
     "output_type": "stream",
     "text": [
      "Принимаем основную - W: -1.0614455552060438, p_value: 0.1442437316617446\n"
     ]
    }
   ],
   "source": [
    "stat_tester_w_m_w('higher',x, z)"
   ]
  },
  {
   "cell_type": "markdown",
   "id": "assured-miniature",
   "metadata": {},
   "source": [
    "Ответ: принимаем оснонвую гипотезу - в городе давление не выше"
   ]
  },
  {
   "cell_type": "markdown",
   "id": "developmental-seating",
   "metadata": {},
   "source": [
    "## Задача 3.4\n",
    "Уровень гистамина в мокроте у 7 курильщиков, склонных к аллергии, составил в мг:102,4100,067,665,964,739,631,2У 10 курильщиков не склонных к аллергии составил в мг:48,145,541,735,429,118,958,368,871,394,3Можно ли, основываясь на этих данных, считать с надёжностью 0,95 что уровень гистамина у склонных и не склонных к аллергии курильщиков значимо различается?"
   ]
  },
  {
   "cell_type": "code",
   "execution_count": 277,
   "id": "improved-sierra",
   "metadata": {},
   "outputs": [],
   "source": [
    "x = [102.4, 100.0, 67.6, 65.9, 64.7, 39.6, 31.2]\n",
    "z = [48.1, 45.5, 41.7, 35.4, 29.1, 18.9, 58.3, 68.8, 71.3, 94.3]"
   ]
  },
  {
   "cell_type": "code",
   "execution_count": 278,
   "id": "swedish-horizontal",
   "metadata": {},
   "outputs": [
    {
     "name": "stdout",
     "output_type": "stream",
     "text": [
      "принимаем в пользу альтернативной - T: -1.0734900802433864, p_value: 0.14152564352594232\n"
     ]
    }
   ],
   "source": [
    "stat_tester_w_m_w('not equal',x, z)"
   ]
  },
  {
   "cell_type": "markdown",
   "id": "fluid-collar",
   "metadata": {},
   "source": [
    "Ответ: принимаем альтернативную гипотезу - уровень гистамина у склонных и не склонных к аллергии курильщиков значимо различается"
   ]
  },
  {
   "cell_type": "code",
   "execution_count": null,
   "id": "strange-fashion",
   "metadata": {},
   "outputs": [],
   "source": []
  }
 ],
 "metadata": {
  "kernelspec": {
   "display_name": "Python 3",
   "language": "python",
   "name": "python3"
  },
  "language_info": {
   "codemirror_mode": {
    "name": "ipython",
    "version": 3
   },
   "file_extension": ".py",
   "mimetype": "text/x-python",
   "name": "python",
   "nbconvert_exporter": "python",
   "pygments_lexer": "ipython3",
   "version": "3.8.5"
  }
 },
 "nbformat": 4,
 "nbformat_minor": 5
}
